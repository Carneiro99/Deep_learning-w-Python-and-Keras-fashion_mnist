{
  "nbformat": 4,
  "nbformat_minor": 0,
  "metadata": {
    "colab": {
      "name": "Deep learning w/  Keras and fashion_mnist.ipynb",
      "provenance": [],
      "collapsed_sections": [],
      "include_colab_link": true
    },
    "kernelspec": {
      "name": "python3",
      "display_name": "Python 3"
    }
  },
  "cells": [
    {
      "cell_type": "markdown",
      "metadata": {
        "id": "view-in-github",
        "colab_type": "text"
      },
      "source": [
        "<a href=\"https://colab.research.google.com/github/Carneiro99/Deep_learning-w-Python-and-Keras-fashion_mnist/blob/master/Deep_learning_w_Keras_and_fashion_mnist.ipynb\" target=\"_parent\"><img src=\"https://colab.research.google.com/assets/colab-badge.svg\" alt=\"Open In Colab\"/></a>"
      ]
    },
    {
      "cell_type": "markdown",
      "metadata": {
        "id": "tXfHZWpHCiK7",
        "colab_type": "text"
      },
      "source": [
        "## Imports"
      ]
    },
    {
      "cell_type": "code",
      "metadata": {
        "id": "hq3zfgx9WFBX",
        "colab_type": "code",
        "colab": {}
      },
      "source": [
        "#imports\n",
        "import tensorflow\n",
        "from tensorflow import keras\n",
        "import matplotlib.pyplot as plt"
      ],
      "execution_count": 0,
      "outputs": []
    },
    {
      "cell_type": "markdown",
      "metadata": {
        "id": "2VkEboZcCfPe",
        "colab_type": "text"
      },
      "source": [
        "## Carregando o Dataset"
      ]
    },
    {
      "cell_type": "code",
      "metadata": {
        "id": "PGIzBa53_AEN",
        "colab_type": "code",
        "colab": {}
      },
      "source": [
        "dataset = keras.datasets.fashion_mnist\n",
        "((imagens_treino, id_treino), (imagens_teste, id_teste)) = dataset.load_data()"
      ],
      "execution_count": 0,
      "outputs": []
    },
    {
      "cell_type": "markdown",
      "metadata": {
        "id": "nhGwz_SzCry8",
        "colab_type": "text"
      },
      "source": [
        "## Entendendo o Dataset"
      ]
    },
    {
      "cell_type": "code",
      "metadata": {
        "id": "vNZtbMna-_6_",
        "colab_type": "code",
        "colab": {
          "base_uri": "https://localhost:8080/",
          "height": 34
        },
        "outputId": "3e5ff6f5-dc15-4ff0-ff42-d9f7a4c88a59"
      },
      "source": [
        "#\n",
        "len(imagens_treino)\n",
        "imagens_treino.shape\n",
        "imagens_teste.shape\n",
        "len(id_teste)\n",
        "id_treino.min()\n",
        "id_treino.max()"
      ],
      "execution_count": 23,
      "outputs": [
        {
          "output_type": "execute_result",
          "data": {
            "text/plain": [
              "9"
            ]
          },
          "metadata": {
            "tags": []
          },
          "execution_count": 23
        }
      ]
    },
    {
      "cell_type": "markdown",
      "metadata": {
        "id": "8XKjiKkWCvP-",
        "colab_type": "text"
      },
      "source": [
        "## Exibindo os dados"
      ]
    },
    {
      "cell_type": "code",
      "metadata": {
        "id": "ImFD9__LWZ-i",
        "colab_type": "code",
        "colab": {
          "base_uri": "https://localhost:8080/",
          "height": 240
        },
        "outputId": "426640f2-a014-434c-fb28-cd8a5b47d50b"
      },
      "source": [
        "\n",
        "total_classificacoes = 10\n",
        "nomes_classificacoes = ['T-shirt/top', 'Trouser', 'Pullover', 'Dress',\n",
        "'Coat', 'Sandal','Shirt', 'Sneaker','Bag' ,'Ankle boot' ]\n",
        "\n",
        "plt.imshow(imagens_treino[0])\n",
        "plt.title(id_treino[0])\n",
        "\n",
        "\n",
        "for imagem in range (10):\n",
        "  plt.subplot(2, 5 , imagem +1) #2 linha e 5 colunas\n",
        "  plt.imshow(imagens_treino[imagem])\n",
        "  plt.title(nomes_classificacoes[id_treino[imagem]])"
      ],
      "execution_count": 24,
      "outputs": [
        {
          "output_type": "display_data",
          "data": {
            "image/png": "[encoded data removed]",
            "text/plain": [
              "<Figure size 432x288 with 10 Axes>"
            ]
          },
          "metadata": {
            "tags": []
          }
        }
      ]
    },
    {
      "cell_type": "code",
      "metadata": {
        "id": "xIA5jSKgxnRN",
        "colab_type": "code",
        "colab": {
          "base_uri": "https://localhost:8080/",
          "height": 68
        },
        "outputId": "c385ba36-59f2-4734-c1fe-203c2a31b706"
      },
      "source": [
        "modelo = keras.Sequential([\n",
        "     #entrada\n",
        "     keras.layers.Flatten(input_shape=(28, 28)),\n",
        "     \n",
        "     #processamento\n",
        "     keras.layers.Dense(258, activation=tensorflow.nn.relu), #relu: aprendizagem nao linear\n",
        "\n",
        "     #saida\n",
        "     keras.layers.Dense(10, activation=tensorflow.nn.softmax) \n",
        "     ])\n",
        "\n",
        "modelo.compile(optimizer='adam', loss='sparse_categorical_crossentropy')\n",
        "modelo.fit(imagens_treino, id_treino)"
      ],
      "execution_count": 32,
      "outputs": [
        {
          "output_type": "stream",
          "text": [
            "Train on 60000 samples\n",
            "60000/60000 [==============================] - 6s 94us/sample - loss: 4.0264\n"
          ],
          "name": "stdout"
        },
        {
          "output_type": "execute_result",
          "data": {
            "text/plain": [
              "<tensorflow.python.keras.callbacks.History at 0x7f34190ec940>"
            ]
          },
          "metadata": {
            "tags": []
          },
          "execution_count": 32
        }
      ]
    },
    {
      "cell_type": "code",
      "metadata": {
        "id": "UIRK47amDvHc",
        "colab_type": "code",
        "colab": {}
      },
      "source": [
        ""
      ],
      "execution_count": 0,
      "outputs": []
    }
  ]
}